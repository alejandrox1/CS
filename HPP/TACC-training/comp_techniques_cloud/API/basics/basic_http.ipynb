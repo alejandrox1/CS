{
 "cells": [
  {
   "cell_type": "markdown",
   "metadata": {},
   "source": [
    "Basic usage of `request` package:\n",
    "\n",
    "```\n",
    "response = requess.<method>(url=<url>, data=<some msg>, [opts])\n",
    "```\n",
    "\n",
    "Some usefule attributes of the response objetc:\n",
    "```\n",
    "response.status_code\n",
    "\n",
    "response.content\n",
    "\n",
    "response.json()\n",
    "```"
   ]
  },
  {
   "cell_type": "code",
   "execution_count": 15,
   "metadata": {
    "collapsed": true
   },
   "outputs": [],
   "source": [
    "import json\n",
    "import os\n",
    "import pprint\n",
    "import requests\n",
    "from requests.auth import HTTPBasicAuth"
   ]
  },
  {
   "cell_type": "code",
   "execution_count": 10,
   "metadata": {},
   "outputs": [
    {
     "name": "stdout",
     "output_type": "stream",
     "text": [
      "{   'authorizations_url': 'https://api.github.com/authorizations',\n",
      "    'code_search_url': 'https://api.github.com/search/code?q={query}{&page,per_page,sort,order}',\n",
      "    'commit_search_url': 'https://api.github.com/search/commits?q={query}{&page,per_page,sort,order}',\n",
      "    'current_user_authorizations_html_url': 'https://github.com/settings/connections/applications{/client_id}',\n",
      "    'current_user_repositories_url': 'https://api.github.com/user/repos{?type,page,per_page,sort}',\n",
      "    'current_user_url': 'https://api.github.com/user',\n",
      "    'emails_url': 'https://api.github.com/user/emails',\n",
      "    'emojis_url': 'https://api.github.com/emojis',\n",
      "    'events_url': 'https://api.github.com/events',\n",
      "    'feeds_url': 'https://api.github.com/feeds',\n",
      "    'followers_url': 'https://api.github.com/user/followers',\n",
      "    'following_url': 'https://api.github.com/user/following{/target}',\n",
      "    'gists_url': 'https://api.github.com/gists{/gist_id}',\n",
      "    'hub_url': 'https://api.github.com/hub',\n",
      "    'issue_search_url': 'https://api.github.com/search/issues?q={query}{&page,per_page,sort,order}',\n",
      "    'issues_url': 'https://api.github.com/issues',\n",
      "    'keys_url': 'https://api.github.com/user/keys',\n",
      "    'notifications_url': 'https://api.github.com/notifications',\n",
      "    'organization_repositories_url': 'https://api.github.com/orgs/{org}/repos{?type,page,per_page,sort}',\n",
      "    'organization_url': 'https://api.github.com/orgs/{org}',\n",
      "    'public_gists_url': 'https://api.github.com/gists/public',\n",
      "    'rate_limit_url': 'https://api.github.com/rate_limit',\n",
      "    'repository_search_url': 'https://api.github.com/search/repositories?q={query}{&page,per_page,sort,order}',\n",
      "    'repository_url': 'https://api.github.com/repos/{owner}/{repo}',\n",
      "    'starred_gists_url': 'https://api.github.com/gists/starred',\n",
      "    'starred_url': 'https://api.github.com/user/starred{/owner}{/repo}',\n",
      "    'team_url': 'https://api.github.com/teams',\n",
      "    'user_organizations_url': 'https://api.github.com/user/orgs',\n",
      "    'user_repositories_url': 'https://api.github.com/users/{user}/repos{?type,page,per_page,sort}',\n",
      "    'user_search_url': 'https://api.github.com/search/users?q={query}{&page,per_page,sort,order}',\n",
      "    'user_url': 'https://api.github.com/users/{user}'}\n"
     ]
    }
   ],
   "source": [
    "base=\"https://api.github.com\"\n",
    "\n",
    "pprint.pprint(requests.get(base).json(), indent=4)"
   ]
  },
  {
   "cell_type": "code",
   "execution_count": 14,
   "metadata": {},
   "outputs": [
    {
     "data": {
      "text/plain": [
       "<Response [404]>"
      ]
     },
     "execution_count": 14,
     "metadata": {},
     "output_type": "execute_result"
    }
   ],
   "source": [
    "requests.get(\"{}/alejandrox1\".format(base), auth=HTTPBasicAuth(\"alejandrox1\", os.environ(\"GITHUB\")))"
   ]
  },
  {
   "cell_type": "code",
   "execution_count": 16,
   "metadata": {},
   "outputs": [
    {
     "data": {
      "text/plain": [
       "'https://developer.github.com/changes/2013-09-03-two-factor-authentication/'"
      ]
     },
     "execution_count": 16,
     "metadata": {},
     "output_type": "execute_result"
    }
   ],
   "source": [
    "\"https://developer.github.com/changes/2013-09-03-two-factor-authentication/\""
   ]
  },
  {
   "cell_type": "code",
   "execution_count": null,
   "metadata": {
    "collapsed": true
   },
   "outputs": [],
   "source": []
  }
 ],
 "metadata": {
  "kernelspec": {
   "display_name": "Python 3",
   "language": "python",
   "name": "python3"
  },
  "language_info": {
   "codemirror_mode": {
    "name": "ipython",
    "version": 3
   },
   "file_extension": ".py",
   "mimetype": "text/x-python",
   "name": "python",
   "nbconvert_exporter": "python",
   "pygments_lexer": "ipython3",
   "version": "3.6.4"
  }
 },
 "nbformat": 4,
 "nbformat_minor": 2
}
